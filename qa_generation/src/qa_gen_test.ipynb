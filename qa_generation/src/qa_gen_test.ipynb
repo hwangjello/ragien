{
 "cells": [
  {
   "cell_type": "code",
   "execution_count": 1,
   "id": "dcdec91d-bb35-4289-9288-b386a68cba27",
   "metadata": {
    "execution": {
     "iopub.execute_input": "2025-04-11T08:08:58.136180Z",
     "iopub.status.busy": "2025-04-11T08:08:58.136084Z",
     "iopub.status.idle": "2025-04-11T08:08:58.160958Z",
     "shell.execute_reply": "2025-04-11T08:08:58.160589Z",
     "shell.execute_reply.started": "2025-04-11T08:08:58.136172Z"
    }
   },
   "outputs": [],
   "source": [
    "# from chain.qa_think import qa_think\n",
    "# from chain.answer_grade import answer_grade\n",
    "# from chain.format_chain import format_chain\n",
    "# from chain.qa_one_think import qa_one_think\n",
    "# from chain.pc_one_think import pc_one_think\n",
    "# from chain.pc_think import pc_think\n",
    "# from chain.format_grade import format_grade\n",
    "# from chain.utils import generate_json_format, generate_response_schemas, make_noun, nonOri, hal_score, is_valid_qa, save_qa_to_file\n",
    "from json_loader import json_loader\n",
    "\n",
    "import json\n",
    "import re\n",
    "\n",
    "data_file = './github_test_paper_train_data.json'\n",
    "save_file = './github_test_paper_train_qa.json'\n",
    "\n",
    "papers = json_loader(data_file)\n"
   ]
  },
  {
   "cell_type": "code",
   "execution_count": null,
   "id": "f199f53f-ba6b-4729-8e9e-5d7a10685dff",
   "metadata": {
    "execution": {
     "iopub.execute_input": "2025-04-11T08:08:58.161566Z",
     "iopub.status.busy": "2025-04-11T08:08:58.161479Z",
     "iopub.status.idle": "2025-04-11T08:08:58.187344Z",
     "shell.execute_reply": "2025-04-11T08:08:58.186945Z",
     "shell.execute_reply.started": "2025-04-11T08:08:58.161558Z"
    }
   },
   "outputs": [],
   "source": [
    "from ex_generation import ex_generation\n",
    "\n",
    "req = \"\"\"\n",
    "first line of qa-pair format must be \"artwork_num\", such as \n",
    "Artwork Number : \"artwork_num\",\n",
    "Q : question\n",
    "A : answer\n",
    "...\n",
    "\\n\n",
    "Each 'Question' must contains full 'title' of the paper and \"first_author' from given context at the same time. - Very important \\n\n",
    "\"\"\"\n",
    "\n",
    "ex_generation(papers, req)"
   ]
  },
  {
   "cell_type": "code",
   "execution_count": 3,
   "id": "4615e1e4-ab55-415a-8e22-d0a442c8d0fc",
   "metadata": {
    "execution": {
     "iopub.execute_input": "2025-04-11T08:08:58.187836Z",
     "iopub.status.busy": "2025-04-11T08:08:58.187739Z",
     "iopub.status.idle": "2025-04-11T08:08:58.256944Z",
     "shell.execute_reply": "2025-04-11T08:08:58.256528Z",
     "shell.execute_reply.started": "2025-04-11T08:08:58.187827Z"
    }
   },
   "outputs": [],
   "source": [
    "ex = \"\"\"\n",
    "Q : \"According to \\'Implementation of a framework for deploying AI inference engines in FPGAs\\' by Ryan Herbst, what has SLAC endeavored on the creation of?\"\n",
    "\"\"\""
   ]
  },
  {
   "cell_type": "code",
   "execution_count": null,
   "id": "2aaae2cc-9b54-482a-9e82-77f6250a715a",
   "metadata": {
    "execution": {
     "iopub.execute_input": "2025-04-11T08:08:58.292964Z",
     "iopub.status.busy": "2025-04-11T08:08:58.292839Z"
    }
   },
   "outputs": [
    {
     "name": "stderr",
     "output_type": "stream",
     "text": [
      "/home/hh/mmca/hal_score_paper/github_test/qa_generation/src/chain/qa_think.py:5: LangChainDeprecationWarning: The class `Ollama` was deprecated in LangChain 0.3.1 and will be removed in 1.0.0. An updated version of the class exists in the :class:`~langchain-ollama package and should be used instead. To use it run `pip install -U :class:`~langchain-ollama` and import as `from :class:`~langchain_ollama import OllamaLLM``.\n",
      "  deep = Ollama(model=\"deepseek-r1:14b\")\n"
     ]
    },
    {
     "name": "stdout",
     "output_type": "stream",
     "text": [
      "[0.8888888888888888]\n",
      "QA saved to ./github_test_paper_train_qa.json_0.json.\n",
      "[0.8571428571428572]\n",
      "QA saved to ./github_test_paper_train_qa.json_0.json.\n",
      "[0.8666666666666667]\n",
      "QA saved to ./github_test_paper_train_qa.json_0.json.\n",
      "[0.6363636363636364]\n",
      "[0.625]\n",
      "[0.5454545454545454]\n"
     ]
    }
   ],
   "source": [
    "from qa_generation import qa_generation\n",
    "\n",
    "qa_num = 1\n",
    "\n",
    "qa_generation(papers, save_file, ex, req, qa_num)"
   ]
  },
  {
   "cell_type": "code",
   "execution_count": null,
   "id": "65ecbcab-b35f-48bb-b8a0-abdcee81c51c",
   "metadata": {},
   "outputs": [],
   "source": []
  }
 ],
 "metadata": {
  "kernelspec": {
   "display_name": "Python 3 (ipykernel)",
   "language": "python",
   "name": "python3"
  },
  "language_info": {
   "codemirror_mode": {
    "name": "ipython",
    "version": 3
   },
   "file_extension": ".py",
   "mimetype": "text/x-python",
   "name": "python",
   "nbconvert_exporter": "python",
   "pygments_lexer": "ipython3",
   "version": "3.12.3"
  }
 },
 "nbformat": 4,
 "nbformat_minor": 5
}
